{
  "nbformat": 4,
  "nbformat_minor": 2,
  "metadata": {
    "colab": {
      "name": "SAM_CIFAR100.ipynb",
      "provenance": []
    },
    "kernelspec": {
      "name": "python3",
      "display_name": "Python 3"
    },
    "language_info": {
      "name": "python"
    },
    "widgets": {
      "application/vnd.jupyter.widget-state+json": {
        "6a9c3babcef34018a815b784d8def93a": {
          "model_module": "@jupyter-widgets/controls",
          "model_name": "HBoxModel",
          "model_module_version": "1.5.0",
          "state": {
            "_view_name": "HBoxView",
            "_dom_classes": [],
            "_model_name": "HBoxModel",
            "_view_module": "@jupyter-widgets/controls",
            "_model_module_version": "1.5.0",
            "_view_count": null,
            "_view_module_version": "1.5.0",
            "box_style": "",
            "layout": "IPY_MODEL_436862003d6d44bfaf33e0e66936887d",
            "_model_module": "@jupyter-widgets/controls",
            "children": [
              "IPY_MODEL_b369d3ab586f4ae9bb2b58d6042292a8",
              "IPY_MODEL_2842d5f9f6b6444cb262e3732ea8bcfd",
              "IPY_MODEL_cf98541d5420408b93905630c33ec893"
            ]
          }
        },
        "436862003d6d44bfaf33e0e66936887d": {
          "model_module": "@jupyter-widgets/base",
          "model_name": "LayoutModel",
          "model_module_version": "1.2.0",
          "state": {
            "_view_name": "LayoutView",
            "grid_template_rows": null,
            "right": null,
            "justify_content": null,
            "_view_module": "@jupyter-widgets/base",
            "overflow": null,
            "_model_module_version": "1.2.0",
            "_view_count": null,
            "flex_flow": null,
            "width": null,
            "min_width": null,
            "border": null,
            "align_items": null,
            "bottom": null,
            "_model_module": "@jupyter-widgets/base",
            "top": null,
            "grid_column": null,
            "overflow_y": null,
            "overflow_x": null,
            "grid_auto_flow": null,
            "grid_area": null,
            "grid_template_columns": null,
            "flex": null,
            "_model_name": "LayoutModel",
            "justify_items": null,
            "grid_row": null,
            "max_height": null,
            "align_content": null,
            "visibility": null,
            "align_self": null,
            "height": null,
            "min_height": null,
            "padding": null,
            "grid_auto_rows": null,
            "grid_gap": null,
            "max_width": null,
            "order": null,
            "_view_module_version": "1.2.0",
            "grid_template_areas": null,
            "object_position": null,
            "object_fit": null,
            "grid_auto_columns": null,
            "margin": null,
            "display": null,
            "left": null
          }
        },
        "b369d3ab586f4ae9bb2b58d6042292a8": {
          "model_module": "@jupyter-widgets/controls",
          "model_name": "HTMLModel",
          "model_module_version": "1.5.0",
          "state": {
            "_view_name": "HTMLView",
            "style": "IPY_MODEL_5a15811bd8db4be8a7c312f153bf2554",
            "_dom_classes": [],
            "description": "",
            "_model_name": "HTMLModel",
            "placeholder": "​",
            "_view_module": "@jupyter-widgets/controls",
            "_model_module_version": "1.5.0",
            "value": "",
            "_view_count": null,
            "_view_module_version": "1.5.0",
            "description_tooltip": null,
            "_model_module": "@jupyter-widgets/controls",
            "layout": "IPY_MODEL_dc37c77ffff240a7a4cc70f4c9b143b8"
          }
        },
        "2842d5f9f6b6444cb262e3732ea8bcfd": {
          "model_module": "@jupyter-widgets/controls",
          "model_name": "FloatProgressModel",
          "model_module_version": "1.5.0",
          "state": {
            "_view_name": "ProgressView",
            "style": "IPY_MODEL_59e69d2a98b74285a23edc781d2c47db",
            "_dom_classes": [],
            "description": "",
            "_model_name": "FloatProgressModel",
            "bar_style": "success",
            "max": 169001437,
            "_view_module": "@jupyter-widgets/controls",
            "_model_module_version": "1.5.0",
            "value": 169001437,
            "_view_count": null,
            "_view_module_version": "1.5.0",
            "orientation": "horizontal",
            "min": 0,
            "description_tooltip": null,
            "_model_module": "@jupyter-widgets/controls",
            "layout": "IPY_MODEL_61594ac323c24564a0b9b39bf1a9785a"
          }
        },
        "cf98541d5420408b93905630c33ec893": {
          "model_module": "@jupyter-widgets/controls",
          "model_name": "HTMLModel",
          "model_module_version": "1.5.0",
          "state": {
            "_view_name": "HTMLView",
            "style": "IPY_MODEL_1c4bedee92b2440a890d731a6f9da75d",
            "_dom_classes": [],
            "description": "",
            "_model_name": "HTMLModel",
            "placeholder": "​",
            "_view_module": "@jupyter-widgets/controls",
            "_model_module_version": "1.5.0",
            "value": " 169001984/? [00:11&lt;00:00, 14706736.91it/s]",
            "_view_count": null,
            "_view_module_version": "1.5.0",
            "description_tooltip": null,
            "_model_module": "@jupyter-widgets/controls",
            "layout": "IPY_MODEL_cde6ec3937604c73aeec4aec603a199f"
          }
        },
        "5a15811bd8db4be8a7c312f153bf2554": {
          "model_module": "@jupyter-widgets/controls",
          "model_name": "DescriptionStyleModel",
          "model_module_version": "1.5.0",
          "state": {
            "_view_name": "StyleView",
            "_model_name": "DescriptionStyleModel",
            "description_width": "",
            "_view_module": "@jupyter-widgets/base",
            "_model_module_version": "1.5.0",
            "_view_count": null,
            "_view_module_version": "1.2.0",
            "_model_module": "@jupyter-widgets/controls"
          }
        },
        "dc37c77ffff240a7a4cc70f4c9b143b8": {
          "model_module": "@jupyter-widgets/base",
          "model_name": "LayoutModel",
          "model_module_version": "1.2.0",
          "state": {
            "_view_name": "LayoutView",
            "grid_template_rows": null,
            "right": null,
            "justify_content": null,
            "_view_module": "@jupyter-widgets/base",
            "overflow": null,
            "_model_module_version": "1.2.0",
            "_view_count": null,
            "flex_flow": null,
            "width": null,
            "min_width": null,
            "border": null,
            "align_items": null,
            "bottom": null,
            "_model_module": "@jupyter-widgets/base",
            "top": null,
            "grid_column": null,
            "overflow_y": null,
            "overflow_x": null,
            "grid_auto_flow": null,
            "grid_area": null,
            "grid_template_columns": null,
            "flex": null,
            "_model_name": "LayoutModel",
            "justify_items": null,
            "grid_row": null,
            "max_height": null,
            "align_content": null,
            "visibility": null,
            "align_self": null,
            "height": null,
            "min_height": null,
            "padding": null,
            "grid_auto_rows": null,
            "grid_gap": null,
            "max_width": null,
            "order": null,
            "_view_module_version": "1.2.0",
            "grid_template_areas": null,
            "object_position": null,
            "object_fit": null,
            "grid_auto_columns": null,
            "margin": null,
            "display": null,
            "left": null
          }
        },
        "59e69d2a98b74285a23edc781d2c47db": {
          "model_module": "@jupyter-widgets/controls",
          "model_name": "ProgressStyleModel",
          "model_module_version": "1.5.0",
          "state": {
            "_view_name": "StyleView",
            "_model_name": "ProgressStyleModel",
            "description_width": "",
            "_view_module": "@jupyter-widgets/base",
            "_model_module_version": "1.5.0",
            "_view_count": null,
            "_view_module_version": "1.2.0",
            "bar_color": null,
            "_model_module": "@jupyter-widgets/controls"
          }
        },
        "61594ac323c24564a0b9b39bf1a9785a": {
          "model_module": "@jupyter-widgets/base",
          "model_name": "LayoutModel",
          "model_module_version": "1.2.0",
          "state": {
            "_view_name": "LayoutView",
            "grid_template_rows": null,
            "right": null,
            "justify_content": null,
            "_view_module": "@jupyter-widgets/base",
            "overflow": null,
            "_model_module_version": "1.2.0",
            "_view_count": null,
            "flex_flow": null,
            "width": null,
            "min_width": null,
            "border": null,
            "align_items": null,
            "bottom": null,
            "_model_module": "@jupyter-widgets/base",
            "top": null,
            "grid_column": null,
            "overflow_y": null,
            "overflow_x": null,
            "grid_auto_flow": null,
            "grid_area": null,
            "grid_template_columns": null,
            "flex": null,
            "_model_name": "LayoutModel",
            "justify_items": null,
            "grid_row": null,
            "max_height": null,
            "align_content": null,
            "visibility": null,
            "align_self": null,
            "height": null,
            "min_height": null,
            "padding": null,
            "grid_auto_rows": null,
            "grid_gap": null,
            "max_width": null,
            "order": null,
            "_view_module_version": "1.2.0",
            "grid_template_areas": null,
            "object_position": null,
            "object_fit": null,
            "grid_auto_columns": null,
            "margin": null,
            "display": null,
            "left": null
          }
        },
        "1c4bedee92b2440a890d731a6f9da75d": {
          "model_module": "@jupyter-widgets/controls",
          "model_name": "DescriptionStyleModel",
          "model_module_version": "1.5.0",
          "state": {
            "_view_name": "StyleView",
            "_model_name": "DescriptionStyleModel",
            "description_width": "",
            "_view_module": "@jupyter-widgets/base",
            "_model_module_version": "1.5.0",
            "_view_count": null,
            "_view_module_version": "1.2.0",
            "_model_module": "@jupyter-widgets/controls"
          }
        },
        "cde6ec3937604c73aeec4aec603a199f": {
          "model_module": "@jupyter-widgets/base",
          "model_name": "LayoutModel",
          "model_module_version": "1.2.0",
          "state": {
            "_view_name": "LayoutView",
            "grid_template_rows": null,
            "right": null,
            "justify_content": null,
            "_view_module": "@jupyter-widgets/base",
            "overflow": null,
            "_model_module_version": "1.2.0",
            "_view_count": null,
            "flex_flow": null,
            "width": null,
            "min_width": null,
            "border": null,
            "align_items": null,
            "bottom": null,
            "_model_module": "@jupyter-widgets/base",
            "top": null,
            "grid_column": null,
            "overflow_y": null,
            "overflow_x": null,
            "grid_auto_flow": null,
            "grid_area": null,
            "grid_template_columns": null,
            "flex": null,
            "_model_name": "LayoutModel",
            "justify_items": null,
            "grid_row": null,
            "max_height": null,
            "align_content": null,
            "visibility": null,
            "align_self": null,
            "height": null,
            "min_height": null,
            "padding": null,
            "grid_auto_rows": null,
            "grid_gap": null,
            "max_width": null,
            "order": null,
            "_view_module_version": "1.2.0",
            "grid_template_areas": null,
            "object_position": null,
            "object_fit": null,
            "grid_auto_columns": null,
            "margin": null,
            "display": null,
            "left": null
          }
        }
      }
    }
  },
  "cells": [
    {
      "cell_type": "code",
      "execution_count": null,
      "source": [
        "import os\r\n",
        "os.environ['CUDA_LAUNCH_BLOCKING'] = \"1\""
      ],
      "outputs": [],
      "metadata": {
        "id": "y5pu0JDUnE53"
      }
    },
    {
      "cell_type": "code",
      "execution_count": null,
      "source": [
        "import torch\r\n",
        "import torch.nn as nn\r\n",
        "import torch.optim as optim\r\n",
        "import torch.nn.functional as F\r\n",
        "import torch.backends.cudnn as cudnn\r\n",
        "\r\n",
        "import torchvision\r\n",
        "import torchvision.transforms as transforms\r\n",
        "import math\r\n",
        "\r\n",
        "import os\r\n",
        "import argparse\r\n",
        "import matplotlib.pyplot as plt\r\n",
        "import numpy as np\r\n",
        "\r\n"
      ],
      "outputs": [],
      "metadata": {
        "id": "oydttlPLcPcn"
      }
    },
    {
      "cell_type": "code",
      "execution_count": null,
      "source": [
        "class SAM(torch.optim.Optimizer):\r\n",
        "    def __init__(self, params, base_optimizer, rho=0.05, **kwargs):\r\n",
        "        assert rho >= 0.0, f\"Invalid rho, should be non-negative: {rho}\"\r\n",
        "\r\n",
        "        defaults = dict(rho=rho, **kwargs)\r\n",
        "        super(SAM, self).__init__(params, defaults)\r\n",
        "\r\n",
        "        self.base_optimizer = base_optimizer(self.param_groups, **kwargs)\r\n",
        "        self.param_groups = self.base_optimizer.param_groups\r\n",
        "\r\n",
        "    @torch.no_grad()\r\n",
        "    def first_step(self, zero_grad=False):\r\n",
        "        grad_norm = self._grad_norm()\r\n",
        "        for group in self.param_groups:\r\n",
        "            scale = group[\"rho\"] / (grad_norm + 1e-12)\r\n",
        "\r\n",
        "            for p in group[\"params\"]:\r\n",
        "                if p.grad is None: continue\r\n",
        "                e_w = p.grad * scale\r\n",
        "                p.add_(e_w)  # climb to the local maximum \"w + e(w)\"\r\n",
        "                self.state[p][\"e_w\"] = e_w\r\n",
        "\r\n",
        "        if zero_grad: self.zero_grad()\r\n",
        "\r\n",
        "    @torch.no_grad()\r\n",
        "    def second_step(self, zero_grad=False):\r\n",
        "        for group in self.param_groups:\r\n",
        "            for p in group[\"params\"]:\r\n",
        "                if p.grad is None: continue\r\n",
        "                p.sub_(self.state[p][\"e_w\"])  # get back to \"w\" from \"w + e(w)\"\r\n",
        "\r\n",
        "        self.base_optimizer.step()  # do the actual \"sharpness-aware\" update\r\n",
        "\r\n",
        "        if zero_grad: self.zero_grad()\r\n",
        "\r\n",
        "    def step(self, closure=None):\r\n",
        "        raise NotImplementedError(\"SAM doesn't work like the other optimizers, you should first call `first_step` and the `second_step`; see the documentation for more info.\")\r\n",
        "\r\n",
        "    def _grad_norm(self):\r\n",
        "        norm = torch.norm(\r\n",
        "                    torch.stack([\r\n",
        "                        p.grad.norm(p=2)\r\n",
        "                        for group in self.param_groups for p in group[\"params\"]\r\n",
        "                        if p.grad is not None\r\n",
        "                    ]),\r\n",
        "                    p=2\r\n",
        "               )\r\n",
        "        return norm"
      ],
      "outputs": [],
      "metadata": {
        "id": "StBSfEb1gw8J"
      }
    },
    {
      "cell_type": "code",
      "execution_count": null,
      "source": [
        "device = 'cuda' if torch.cuda.is_available() else 'cpu'\r\n",
        "\r\n",
        "lr = 0.1  #learning rate\r\n",
        "best_acc = 0\r\n",
        "num_epochs = 225"
      ],
      "outputs": [],
      "metadata": {
        "id": "M5XNf8N4cadH"
      }
    },
    {
      "cell_type": "code",
      "execution_count": null,
      "source": [
        "train_transforms = transforms.Compose([\r\n",
        "      transforms.RandomCrop(32, padding=4),\r\n",
        "      transforms.RandomHorizontalFlip(),\r\n",
        "      transforms.ToTensor(),\r\n",
        "      transforms.Normalize((0.4914, 0.4822, 0.4465), (0.2023, 0.1994, 0.2010)),\r\n",
        "])\r\n",
        "\r\n",
        "test_transforms = transforms.Compose([\r\n",
        "      transforms.ToTensor(),\r\n",
        "      transforms.Normalize((0.4914, 0.4822, 0.4465), (0.2023, 0.1994, 0.2010)),\r\n",
        "])\r\n"
      ],
      "outputs": [],
      "metadata": {
        "id": "Ccdt50LTclIB"
      }
    },
    {
      "cell_type": "code",
      "execution_count": null,
      "source": [
        "train_data = torchvision.datasets.CIFAR100(root='./data', train=True, download=True, transform=train_transforms)\r\n",
        "train_loader = torch.utils.data.DataLoader(train_data, batch_size=128, shuffle=True, num_workers=0)\r\n",
        "\r\n",
        "test_data = torchvision.datasets.CIFAR100(root='./data', train = False, download=True, transform=test_transforms)\r\n",
        "test_loader = torch.utils.data.DataLoader(test_data, batch_size=128, shuffle=False, num_workers=0)"
      ],
      "outputs": [],
      "metadata": {
        "colab": {
          "base_uri": "https://localhost:8080/",
          "height": 101,
          "referenced_widgets": [
            "6a9c3babcef34018a815b784d8def93a",
            "436862003d6d44bfaf33e0e66936887d",
            "b369d3ab586f4ae9bb2b58d6042292a8",
            "2842d5f9f6b6444cb262e3732ea8bcfd",
            "cf98541d5420408b93905630c33ec893",
            "5a15811bd8db4be8a7c312f153bf2554",
            "dc37c77ffff240a7a4cc70f4c9b143b8",
            "59e69d2a98b74285a23edc781d2c47db",
            "61594ac323c24564a0b9b39bf1a9785a",
            "1c4bedee92b2440a890d731a6f9da75d",
            "cde6ec3937604c73aeec4aec603a199f"
          ]
        },
        "id": "LDGyH4sfdV6r",
        "outputId": "c6cef9d8-9f75-4f72-8cfa-95e66fef7dc5"
      }
    },
    {
      "cell_type": "code",
      "execution_count": null,
      "source": [
        "net = torchvision.models.resnet18(pretrained=True)\r\n",
        "num_ftrs = net.fc.in_features\r\n",
        "net.fc = nn.Linear(num_ftrs,100)\r\n",
        "\r\n",
        "net = net.to(device)"
      ],
      "outputs": [],
      "metadata": {
        "id": "rpxirzUXeFi4"
      }
    },
    {
      "cell_type": "code",
      "execution_count": null,
      "source": [
        "criterion = nn.CrossEntropyLoss()\r\n",
        "base_optimizer = torch.optim.SGD\r\n",
        "optimizer = SAM(net.parameters(), base_optimizer, rho=0.05, lr=0.1, momentum=0.9, weight_decay=5e-4)\r\n",
        "\r\n",
        "scheduler = torch.optim.lr_scheduler.CosineAnnealingLR(optimizer, T_max=200)\r\n"
      ],
      "outputs": [],
      "metadata": {
        "id": "fvH0d_96eFds"
      }
    },
    {
      "cell_type": "code",
      "execution_count": null,
      "source": [
        "def train(epoch):\r\n",
        "    print('\\nEpoch: %d' % epoch)\r\n",
        "    net.train()\r\n",
        "    train_loss = 0\r\n",
        "    correct = 0\r\n",
        "    total = 0\r\n",
        "    H = []\r\n",
        "    Y = []\r\n",
        "    for batch_idx, (inputs, targets) in enumerate(train_loader):\r\n",
        "        Y.append(targets)\r\n",
        "        inputs, targets = inputs.to(device), targets.to(device)\r\n",
        "        optimizer.zero_grad()\r\n",
        "        outputs = net(inputs)\r\n",
        "\r\n",
        "        loss = criterion(outputs, targets)\r\n",
        "        loss.mean().backward()\r\n",
        "        optimizer.first_step(zero_grad=True)\r\n",
        "\r\n",
        "        # second forward-backward step\r\n",
        "        criterion(net(inputs), targets).mean().backward()\r\n",
        "        optimizer.second_step(zero_grad=True)\r\n",
        "\r\n",
        "        train_loss += loss.mean().item()\r\n",
        "        _, predicted = outputs.max(1)\r\n",
        "        total += targets.size(0)\r\n",
        "        correct += predicted.eq(targets).sum().item()\r\n",
        "\r\n",
        "        if(batch_idx % 50 == 0):\r\n",
        "              print(str(batch_idx)+\"/\"+str(len(train_loader)) +\"  Loss: \" + str(train_loss/(batch_idx+1)) +\"  Acc: \"+ str(100.*correct/total))\r\n",
        "            \r\n",
        "\r\n",
        "        H.append(outputs.to('cpu'))\r\n",
        "\r\n",
        "    H = torch.cat(H,0).detach().numpy()\r\n",
        "    Y = torch.cat(Y,0).numpy()\r\n",
        "\r\n",
        "    return train_loss / len(train_loader), 100.*correct/total, H, Y\r\n",
        "\r\n"
      ],
      "outputs": [],
      "metadata": {
        "id": "VLPRM3uGgKcW"
      }
    },
    {
      "cell_type": "code",
      "execution_count": null,
      "source": [
        "def test(epoch):\r\n",
        "    global best_acc\r\n",
        "    net.eval()\r\n",
        "    test_loss = 0\r\n",
        "    correct = 0\r\n",
        "    total = 0\r\n",
        "    H = []\r\n",
        "    Y = []\r\n",
        "    with torch.no_grad():\r\n",
        "        for batch_idx, (inputs, targets) in enumerate(test_loader):\r\n",
        "            Y.append(targets)\r\n",
        "            inputs, targets = inputs.to(device), targets.to(device)\r\n",
        "            outputs = net(inputs)\r\n",
        "            # loss = smooth_crossentropy(outputs, targets)\r\n",
        "            loss = criterion(outputs, targets)\r\n",
        "            #loss = std_loss(outputs, targets)\r\n",
        "\r\n",
        "            test_loss += loss.mean().item()\r\n",
        "            _, predicted = outputs.max(1)\r\n",
        "            total += targets.size(0)\r\n",
        "            correct += predicted.eq(targets).sum().item()\r\n",
        "\r\n",
        "            if(batch_idx % 50 == 0):\r\n",
        "              print(str(batch_idx)+\"/\"+str(len(test_loader)) +\"  Loss: \" + str(test_loss/(batch_idx+1)) +\"  Acc: \"+ str(100.*correct/total))\r\n",
        "              \r\n",
        "            H.append(outputs.to('cpu'))\r\n",
        "            \r\n",
        "    # Save checkpoint.\r\n",
        "    acc = 100.*correct/total\r\n",
        "    if acc > best_acc:\r\n",
        "        print('Saving..')\r\n",
        "        state = {\r\n",
        "            'net': net.state_dict(),\r\n",
        "            'acc': acc,\r\n",
        "            'epoch': epoch,\r\n",
        "        }\r\n",
        "        if not os.path.isdir('checkpoint'):\r\n",
        "            os.mkdir('checkpoint')\r\n",
        "        torch.save(state, './checkpoint/ckpt.pth')\r\n",
        "        best_acc = acc\r\n",
        "    \r\n",
        "    H = torch.cat(H,0).detach().numpy()\r\n",
        "    Y = torch.cat(Y,0).numpy()\r\n",
        "\r\n",
        "    return test_loss / len(test_loader), 100.*correct/total, H, Y\r\n"
      ],
      "outputs": [],
      "metadata": {
        "id": "9KOvqdZugWCR"
      }
    },
    {
      "cell_type": "code",
      "execution_count": null,
      "source": [
        "train_loss = []\r\n",
        "train_accuracy = []\r\n",
        "test_loss = []\r\n",
        "test_accuracy = []\r\n",
        "\r\n",
        "\r\n",
        "for epoch in range(0, num_epochs):\r\n",
        "    tr_loss, tr_acc, _, _ = train(epoch)\r\n",
        "    te_loss, te_acc, _, _ = test(epoch)\r\n",
        "    \r\n",
        "    train_loss.append(tr_loss)\r\n",
        "    train_accuracy.append(tr_acc)\r\n",
        "    test_loss.append(te_loss)\r\n",
        "    test_accuracy.append(te_acc)\r\n",
        "    print(\"Train Accuracy:  \" , max(train_accuracy), \"% \", \"  Test Accuracy:  \" , max(test_accuracy), \"%\")\r\n",
        "    \r\n",
        "    scheduler.step()"
      ],
      "outputs": [],
      "metadata": {
        "id": "-3YceOT-gbYZ",
        "colab": {
          "base_uri": "https://localhost:8080/"
        },
        "outputId": "37575302-99b9-4b7f-9884-11bbd9053636"
      }
    },
    {
      "cell_type": "code",
      "execution_count": null,
      "source": [
        "torch.save(net.state_dict(), 'ckpt_final.pth')"
      ],
      "outputs": [],
      "metadata": {
        "id": "nMHFkqjcDD39"
      }
    }
  ]
}